{
 "cells": [
  {
   "cell_type": "markdown",
   "metadata": {},
   "source": [
    "# Detalhes do projeto\n",
    "- Data wrangling, que consiste em:\n",
    "    - Coletar dados\n",
    "    - Avaliar dados\n",
    "    - Limpar dados\n",
    "- Armazenar, analisar e visualizar seus dados wrangled\n",
    "- Elaborar relatórios sobre 1) seus esforços de data wrangling 2) suas análises e visualizações de dados\n"
   ]
  },
  {
   "cell_type": "markdown",
   "metadata": {},
   "source": [
    "# Coletar dados"
   ]
  },
  {
   "cell_type": "code",
   "execution_count": 33,
   "metadata": {},
   "outputs": [],
   "source": [
    "%matplotlib inline\n",
    "\n",
    "import tweepy\n",
    "import json\n",
    "import re\n",
    "import matplotlib.dates as mdates\n",
    "import matplotlib.pyplot as plt\n",
    "import pandas as pd\n",
    "import numpy as np\n",
    "import requests as rq"
   ]
  },
  {
   "cell_type": "markdown",
   "metadata": {},
   "source": [
    "### Dados"
   ]
  },
  {
   "cell_type": "code",
   "execution_count": 2,
   "metadata": {},
   "outputs": [],
   "source": [
    "data_twitter_archive = pd.read_csv('twitter-archive-enhanced.csv')\n",
    "data_image_archive = pd.read_csv('image-predictions.tsv', \"\\t\")"
   ]
  },
  {
   "cell_type": "markdown",
   "metadata": {},
   "source": [
    "### Acesso a API"
   ]
  },
  {
   "cell_type": "code",
   "execution_count": 3,
   "metadata": {},
   "outputs": [
    {
     "name": "stdout",
     "output_type": "stream",
     "text": [
      "Empty DataFrame\n",
      "Columns: [id]\n",
      "Index: []\n"
     ]
    }
   ],
   "source": [
    "consumer_key = '-'\n",
    "consumer_secret = '-'\n",
    "access_token = '-'\n",
    "access_secret = '-'\n",
    "\n",
    "auth = tweepy.OAuthHandler(consumer_key, consumer_secret)\n",
    "auth.set_access_token(access_token, access_secret)\n",
    "api = tweepy.API(auth, wait_on_rate_limit=True, wait_on_rate_limit_notify=True)\n",
    "\n",
    "\n",
    "file = open(\"tweet_json.txt\", \"a+\") \n",
    "fails_dict = pd.DataFrame(columns=['id'])\n",
    "'''\n",
    "for id in data_twitter_archive['tweet_id']:\n",
    "\n",
    "    try:\n",
    "        twitter = api.get_status(id)\n",
    "        #rt = twitter['retweet_count']\n",
    "        #fv = twitter['favorite_count']\n",
    "        json.dump(twitter._json, file)\n",
    "        file.write('\\n')\n",
    "        #file.write(str(id)+','+str(rt)+','+str(fv)+'\\n')\n",
    "    except Exception as erro:\n",
    "        fails_dict.loc[len(fails_dict)] = [id]\n",
    "\n",
    "'''\n",
    "file.close()\n",
    "\n",
    "print(fails_dict)\n"
   ]
  },
  {
   "cell_type": "code",
   "execution_count": 4,
   "metadata": {},
   "outputs": [
    {
     "name": "stdout",
     "output_type": "stream",
     "text": [
      "<class 'pandas.core.frame.DataFrame'>\n",
      "RangeIndex: 2342 entries, 0 to 2341\n",
      "Data columns (total 30 columns):\n",
      "contributors                     0 non-null float64\n",
      "coordinates                      0 non-null float64\n",
      "created_at                       2342 non-null datetime64[ns]\n",
      "entities                         2342 non-null object\n",
      "extended_entities                1823 non-null object\n",
      "favorite_count                   2342 non-null int64\n",
      "favorited                        2342 non-null bool\n",
      "geo                              0 non-null float64\n",
      "id                               2342 non-null int64\n",
      "id_str                           2342 non-null int64\n",
      "in_reply_to_screen_name          78 non-null object\n",
      "in_reply_to_status_id            78 non-null float64\n",
      "in_reply_to_status_id_str        78 non-null float64\n",
      "in_reply_to_user_id              78 non-null float64\n",
      "in_reply_to_user_id_str          78 non-null float64\n",
      "is_quote_status                  2342 non-null bool\n",
      "lang                             2342 non-null object\n",
      "place                            1 non-null object\n",
      "possibly_sensitive               2206 non-null float64\n",
      "possibly_sensitive_appealable    2206 non-null float64\n",
      "quoted_status                    24 non-null object\n",
      "quoted_status_id                 26 non-null float64\n",
      "quoted_status_id_str             26 non-null float64\n",
      "retweet_count                    2342 non-null int64\n",
      "retweeted                        2342 non-null bool\n",
      "retweeted_status                 168 non-null object\n",
      "source                           2342 non-null object\n",
      "text                             2342 non-null object\n",
      "truncated                        2342 non-null bool\n",
      "user                             2342 non-null object\n",
      "dtypes: bool(4), datetime64[ns](1), float64(11), int64(4), object(10)\n",
      "memory usage: 484.9+ KB\n"
     ]
    }
   ],
   "source": [
    "df = pd.read_json(\"tweet_json.txt\", lines = True)\n",
    "df.info()"
   ]
  },
  {
   "cell_type": "code",
   "execution_count": 5,
   "metadata": {},
   "outputs": [
    {
     "name": "stdout",
     "output_type": "stream",
     "text": [
      "<class 'pandas.core.frame.DataFrame'>\n",
      "Index: 2342 entries, 0 to 2341\n",
      "Data columns (total 3 columns):\n",
      "tweet_id          2342 non-null int64\n",
      "retweet_count     2342 non-null int64\n",
      "favorite_count    2342 non-null int64\n",
      "dtypes: int64(3)\n",
      "memory usage: 73.2+ KB\n"
     ]
    }
   ],
   "source": [
    "twitter_favorites_retweet = df.iloc[:,[8, 23,5]]\n",
    "twitter_favorites_retweet = twitter_favorites_retweet.rename(index=str, columns={\"id\": \"tweet_id\"})\n",
    "twitter_favorites_retweet.info()"
   ]
  },
  {
   "cell_type": "markdown",
   "metadata": {},
   "source": [
    "# Avaliar dados"
   ]
  },
  {
   "cell_type": "code",
   "execution_count": 6,
   "metadata": {},
   "outputs": [
    {
     "name": "stdout",
     "output_type": "stream",
     "text": [
      "<class 'pandas.core.frame.DataFrame'>\n",
      "RangeIndex: 2356 entries, 0 to 2355\n",
      "Data columns (total 17 columns):\n",
      "tweet_id                      2356 non-null int64\n",
      "in_reply_to_status_id         78 non-null float64\n",
      "in_reply_to_user_id           78 non-null float64\n",
      "timestamp                     2356 non-null object\n",
      "source                        2356 non-null object\n",
      "text                          2356 non-null object\n",
      "retweeted_status_id           181 non-null float64\n",
      "retweeted_status_user_id      181 non-null float64\n",
      "retweeted_status_timestamp    181 non-null object\n",
      "expanded_urls                 2297 non-null object\n",
      "rating_numerator              2356 non-null int64\n",
      "rating_denominator            2356 non-null int64\n",
      "name                          2356 non-null object\n",
      "doggo                         2356 non-null object\n",
      "floofer                       2356 non-null object\n",
      "pupper                        2356 non-null object\n",
      "puppo                         2356 non-null object\n",
      "dtypes: float64(4), int64(3), object(10)\n",
      "memory usage: 313.0+ KB\n"
     ]
    },
    {
     "data": {
      "text/html": [
       "<div>\n",
       "<style scoped>\n",
       "    .dataframe tbody tr th:only-of-type {\n",
       "        vertical-align: middle;\n",
       "    }\n",
       "\n",
       "    .dataframe tbody tr th {\n",
       "        vertical-align: top;\n",
       "    }\n",
       "\n",
       "    .dataframe thead th {\n",
       "        text-align: right;\n",
       "    }\n",
       "</style>\n",
       "<table border=\"1\" class=\"dataframe\">\n",
       "  <thead>\n",
       "    <tr style=\"text-align: right;\">\n",
       "      <th></th>\n",
       "      <th>tweet_id</th>\n",
       "      <th>in_reply_to_status_id</th>\n",
       "      <th>in_reply_to_user_id</th>\n",
       "      <th>timestamp</th>\n",
       "      <th>source</th>\n",
       "      <th>text</th>\n",
       "      <th>retweeted_status_id</th>\n",
       "      <th>retweeted_status_user_id</th>\n",
       "      <th>retweeted_status_timestamp</th>\n",
       "      <th>expanded_urls</th>\n",
       "      <th>rating_numerator</th>\n",
       "      <th>rating_denominator</th>\n",
       "      <th>name</th>\n",
       "      <th>doggo</th>\n",
       "      <th>floofer</th>\n",
       "      <th>pupper</th>\n",
       "      <th>puppo</th>\n",
       "    </tr>\n",
       "  </thead>\n",
       "  <tbody>\n",
       "    <tr>\n",
       "      <th>0</th>\n",
       "      <td>892420643555336193</td>\n",
       "      <td>NaN</td>\n",
       "      <td>NaN</td>\n",
       "      <td>2017-08-01 16:23:56 +0000</td>\n",
       "      <td>&lt;a href=\"http://twitter.com/download/iphone\" r...</td>\n",
       "      <td>This is Phineas. He's a mystical boy. Only eve...</td>\n",
       "      <td>NaN</td>\n",
       "      <td>NaN</td>\n",
       "      <td>NaN</td>\n",
       "      <td>https://twitter.com/dog_rates/status/892420643...</td>\n",
       "      <td>13</td>\n",
       "      <td>10</td>\n",
       "      <td>Phineas</td>\n",
       "      <td>None</td>\n",
       "      <td>None</td>\n",
       "      <td>None</td>\n",
       "      <td>None</td>\n",
       "    </tr>\n",
       "    <tr>\n",
       "      <th>1</th>\n",
       "      <td>892177421306343426</td>\n",
       "      <td>NaN</td>\n",
       "      <td>NaN</td>\n",
       "      <td>2017-08-01 00:17:27 +0000</td>\n",
       "      <td>&lt;a href=\"http://twitter.com/download/iphone\" r...</td>\n",
       "      <td>This is Tilly. She's just checking pup on you....</td>\n",
       "      <td>NaN</td>\n",
       "      <td>NaN</td>\n",
       "      <td>NaN</td>\n",
       "      <td>https://twitter.com/dog_rates/status/892177421...</td>\n",
       "      <td>13</td>\n",
       "      <td>10</td>\n",
       "      <td>Tilly</td>\n",
       "      <td>None</td>\n",
       "      <td>None</td>\n",
       "      <td>None</td>\n",
       "      <td>None</td>\n",
       "    </tr>\n",
       "    <tr>\n",
       "      <th>2</th>\n",
       "      <td>891815181378084864</td>\n",
       "      <td>NaN</td>\n",
       "      <td>NaN</td>\n",
       "      <td>2017-07-31 00:18:03 +0000</td>\n",
       "      <td>&lt;a href=\"http://twitter.com/download/iphone\" r...</td>\n",
       "      <td>This is Archie. He is a rare Norwegian Pouncin...</td>\n",
       "      <td>NaN</td>\n",
       "      <td>NaN</td>\n",
       "      <td>NaN</td>\n",
       "      <td>https://twitter.com/dog_rates/status/891815181...</td>\n",
       "      <td>12</td>\n",
       "      <td>10</td>\n",
       "      <td>Archie</td>\n",
       "      <td>None</td>\n",
       "      <td>None</td>\n",
       "      <td>None</td>\n",
       "      <td>None</td>\n",
       "    </tr>\n",
       "    <tr>\n",
       "      <th>3</th>\n",
       "      <td>891689557279858688</td>\n",
       "      <td>NaN</td>\n",
       "      <td>NaN</td>\n",
       "      <td>2017-07-30 15:58:51 +0000</td>\n",
       "      <td>&lt;a href=\"http://twitter.com/download/iphone\" r...</td>\n",
       "      <td>This is Darla. She commenced a snooze mid meal...</td>\n",
       "      <td>NaN</td>\n",
       "      <td>NaN</td>\n",
       "      <td>NaN</td>\n",
       "      <td>https://twitter.com/dog_rates/status/891689557...</td>\n",
       "      <td>13</td>\n",
       "      <td>10</td>\n",
       "      <td>Darla</td>\n",
       "      <td>None</td>\n",
       "      <td>None</td>\n",
       "      <td>None</td>\n",
       "      <td>None</td>\n",
       "    </tr>\n",
       "    <tr>\n",
       "      <th>4</th>\n",
       "      <td>891327558926688256</td>\n",
       "      <td>NaN</td>\n",
       "      <td>NaN</td>\n",
       "      <td>2017-07-29 16:00:24 +0000</td>\n",
       "      <td>&lt;a href=\"http://twitter.com/download/iphone\" r...</td>\n",
       "      <td>This is Franklin. He would like you to stop ca...</td>\n",
       "      <td>NaN</td>\n",
       "      <td>NaN</td>\n",
       "      <td>NaN</td>\n",
       "      <td>https://twitter.com/dog_rates/status/891327558...</td>\n",
       "      <td>12</td>\n",
       "      <td>10</td>\n",
       "      <td>Franklin</td>\n",
       "      <td>None</td>\n",
       "      <td>None</td>\n",
       "      <td>None</td>\n",
       "      <td>None</td>\n",
       "    </tr>\n",
       "  </tbody>\n",
       "</table>\n",
       "</div>"
      ],
      "text/plain": [
       "             tweet_id  in_reply_to_status_id  in_reply_to_user_id  \\\n",
       "0  892420643555336193                    NaN                  NaN   \n",
       "1  892177421306343426                    NaN                  NaN   \n",
       "2  891815181378084864                    NaN                  NaN   \n",
       "3  891689557279858688                    NaN                  NaN   \n",
       "4  891327558926688256                    NaN                  NaN   \n",
       "\n",
       "                   timestamp  \\\n",
       "0  2017-08-01 16:23:56 +0000   \n",
       "1  2017-08-01 00:17:27 +0000   \n",
       "2  2017-07-31 00:18:03 +0000   \n",
       "3  2017-07-30 15:58:51 +0000   \n",
       "4  2017-07-29 16:00:24 +0000   \n",
       "\n",
       "                                              source  \\\n",
       "0  <a href=\"http://twitter.com/download/iphone\" r...   \n",
       "1  <a href=\"http://twitter.com/download/iphone\" r...   \n",
       "2  <a href=\"http://twitter.com/download/iphone\" r...   \n",
       "3  <a href=\"http://twitter.com/download/iphone\" r...   \n",
       "4  <a href=\"http://twitter.com/download/iphone\" r...   \n",
       "\n",
       "                                                text  retweeted_status_id  \\\n",
       "0  This is Phineas. He's a mystical boy. Only eve...                  NaN   \n",
       "1  This is Tilly. She's just checking pup on you....                  NaN   \n",
       "2  This is Archie. He is a rare Norwegian Pouncin...                  NaN   \n",
       "3  This is Darla. She commenced a snooze mid meal...                  NaN   \n",
       "4  This is Franklin. He would like you to stop ca...                  NaN   \n",
       "\n",
       "   retweeted_status_user_id retweeted_status_timestamp  \\\n",
       "0                       NaN                        NaN   \n",
       "1                       NaN                        NaN   \n",
       "2                       NaN                        NaN   \n",
       "3                       NaN                        NaN   \n",
       "4                       NaN                        NaN   \n",
       "\n",
       "                                       expanded_urls  rating_numerator  \\\n",
       "0  https://twitter.com/dog_rates/status/892420643...                13   \n",
       "1  https://twitter.com/dog_rates/status/892177421...                13   \n",
       "2  https://twitter.com/dog_rates/status/891815181...                12   \n",
       "3  https://twitter.com/dog_rates/status/891689557...                13   \n",
       "4  https://twitter.com/dog_rates/status/891327558...                12   \n",
       "\n",
       "   rating_denominator      name doggo floofer pupper puppo  \n",
       "0                  10   Phineas  None    None   None  None  \n",
       "1                  10     Tilly  None    None   None  None  \n",
       "2                  10    Archie  None    None   None  None  \n",
       "3                  10     Darla  None    None   None  None  \n",
       "4                  10  Franklin  None    None   None  None  "
      ]
     },
     "execution_count": 6,
     "metadata": {},
     "output_type": "execute_result"
    }
   ],
   "source": [
    "data_twitter_archive.info()\n",
    "data_twitter_archive.head()"
   ]
  },
  {
   "cell_type": "markdown",
   "metadata": {},
   "source": [
    "- As colunas doggo, floofer, pupper, puppo são referrentes a estágio dos cachorros, esses dados devem ser agrupados em uma coluna.\n",
    "\n",
    "- Timestamp está com o tipo de dado errado."
   ]
  },
  {
   "cell_type": "code",
   "execution_count": 7,
   "metadata": {},
   "outputs": [
    {
     "data": {
      "text/plain": [
       "12      558\n",
       "11      464\n",
       "10      461\n",
       "13      351\n",
       "9       158\n",
       "8       102\n",
       "7        55\n",
       "14       54\n",
       "5        37\n",
       "6        32\n",
       "3        19\n",
       "4        17\n",
       "1         9\n",
       "2         9\n",
       "420       2\n",
       "0         2\n",
       "15        2\n",
       "75        2\n",
       "80        1\n",
       "20        1\n",
       "24        1\n",
       "26        1\n",
       "44        1\n",
       "50        1\n",
       "60        1\n",
       "165       1\n",
       "84        1\n",
       "88        1\n",
       "144       1\n",
       "182       1\n",
       "143       1\n",
       "666       1\n",
       "960       1\n",
       "1776      1\n",
       "17        1\n",
       "27        1\n",
       "45        1\n",
       "99        1\n",
       "121       1\n",
       "204       1\n",
       "Name: rating_numerator, dtype: int64"
      ]
     },
     "execution_count": 7,
     "metadata": {},
     "output_type": "execute_result"
    }
   ],
   "source": [
    "data_twitter_archive.rating_numerator.value_counts()"
   ]
  },
  {
   "cell_type": "markdown",
   "metadata": {},
   "source": [
    "- Os valores dos numeradores apresentam dados fora do normal"
   ]
  },
  {
   "cell_type": "code",
   "execution_count": 8,
   "metadata": {},
   "outputs": [
    {
     "data": {
      "text/plain": [
       "10     2333\n",
       "11        3\n",
       "50        3\n",
       "80        2\n",
       "20        2\n",
       "2         1\n",
       "16        1\n",
       "40        1\n",
       "70        1\n",
       "15        1\n",
       "90        1\n",
       "110       1\n",
       "120       1\n",
       "130       1\n",
       "150       1\n",
       "170       1\n",
       "7         1\n",
       "0         1\n",
       "Name: rating_denominator, dtype: int64"
      ]
     },
     "execution_count": 8,
     "metadata": {},
     "output_type": "execute_result"
    }
   ],
   "source": [
    "data_twitter_archive.rating_denominator.value_counts()"
   ]
  },
  {
   "cell_type": "markdown",
   "metadata": {},
   "source": [
    "- Os valores dos denominadores apresentam dados fora do normal"
   ]
  },
  {
   "cell_type": "code",
   "execution_count": 9,
   "metadata": {},
   "outputs": [
    {
     "data": {
      "text/plain": [
       "None        745\n",
       "a            55\n",
       "Charlie      12\n",
       "Lucy         11\n",
       "Oliver       11\n",
       "Cooper       11\n",
       "Lola         10\n",
       "Tucker       10\n",
       "Penny        10\n",
       "Bo            9\n",
       "Winston       9\n",
       "the           8\n",
       "Sadie         8\n",
       "Buddy         7\n",
       "Toby          7\n",
       "Bailey        7\n",
       "an            7\n",
       "Daisy         7\n",
       "Leo           6\n",
       "Dave          6\n",
       "Rusty         6\n",
       "Koda          6\n",
       "Jack          6\n",
       "Jax           6\n",
       "Scout         6\n",
       "Bella         6\n",
       "Milo          6\n",
       "Stanley       6\n",
       "Oscar         6\n",
       "Gus           5\n",
       "           ... \n",
       "Huxley        1\n",
       "Dot           1\n",
       "Patch         1\n",
       "William       1\n",
       "Bobble        1\n",
       "Kody          1\n",
       "DonDon        1\n",
       "Chuck         1\n",
       "Harlso        1\n",
       "Stuart        1\n",
       "Asher         1\n",
       "Mollie        1\n",
       "Noah          1\n",
       "Craig         1\n",
       "Adele         1\n",
       "Miley         1\n",
       "Carbon        1\n",
       "Brooks        1\n",
       "Marty         1\n",
       "Brandy        1\n",
       "Wiggles       1\n",
       "Frönq         1\n",
       "Linus         1\n",
       "Darrel        1\n",
       "Ed            1\n",
       "Lulu          1\n",
       "Bauer         1\n",
       "Carll         1\n",
       "Rufio         1\n",
       "Ashleigh      1\n",
       "Name: name, Length: 957, dtype: int64"
      ]
     },
     "execution_count": 9,
     "metadata": {},
     "output_type": "execute_result"
    }
   ],
   "source": [
    "data_twitter_archive.name.value_counts()"
   ]
  },
  {
   "cell_type": "markdown",
   "metadata": {},
   "source": [
    "- Há nomes incorretos para os cachorros. Ex.: 'a', 'the', 'an' e 'None'. Os que se iniciam com em letra minuscula e o 'None'"
   ]
  },
  {
   "cell_type": "code",
   "execution_count": 10,
   "metadata": {},
   "outputs": [
    {
     "name": "stdout",
     "output_type": "stream",
     "text": [
      "<class 'pandas.core.frame.DataFrame'>\n",
      "RangeIndex: 2075 entries, 0 to 2074\n",
      "Data columns (total 12 columns):\n",
      "tweet_id    2075 non-null int64\n",
      "jpg_url     2075 non-null object\n",
      "img_num     2075 non-null int64\n",
      "p1          2075 non-null object\n",
      "p1_conf     2075 non-null float64\n",
      "p1_dog      2075 non-null bool\n",
      "p2          2075 non-null object\n",
      "p2_conf     2075 non-null float64\n",
      "p2_dog      2075 non-null bool\n",
      "p3          2075 non-null object\n",
      "p3_conf     2075 non-null float64\n",
      "p3_dog      2075 non-null bool\n",
      "dtypes: bool(3), float64(3), int64(2), object(4)\n",
      "memory usage: 152.1+ KB\n"
     ]
    },
    {
     "data": {
      "text/html": [
       "<div>\n",
       "<style scoped>\n",
       "    .dataframe tbody tr th:only-of-type {\n",
       "        vertical-align: middle;\n",
       "    }\n",
       "\n",
       "    .dataframe tbody tr th {\n",
       "        vertical-align: top;\n",
       "    }\n",
       "\n",
       "    .dataframe thead th {\n",
       "        text-align: right;\n",
       "    }\n",
       "</style>\n",
       "<table border=\"1\" class=\"dataframe\">\n",
       "  <thead>\n",
       "    <tr style=\"text-align: right;\">\n",
       "      <th></th>\n",
       "      <th>tweet_id</th>\n",
       "      <th>jpg_url</th>\n",
       "      <th>img_num</th>\n",
       "      <th>p1</th>\n",
       "      <th>p1_conf</th>\n",
       "      <th>p1_dog</th>\n",
       "      <th>p2</th>\n",
       "      <th>p2_conf</th>\n",
       "      <th>p2_dog</th>\n",
       "      <th>p3</th>\n",
       "      <th>p3_conf</th>\n",
       "      <th>p3_dog</th>\n",
       "    </tr>\n",
       "  </thead>\n",
       "  <tbody>\n",
       "    <tr>\n",
       "      <th>0</th>\n",
       "      <td>666020888022790149</td>\n",
       "      <td>https://pbs.twimg.com/media/CT4udn0WwAA0aMy.jpg</td>\n",
       "      <td>1</td>\n",
       "      <td>Welsh_springer_spaniel</td>\n",
       "      <td>0.465074</td>\n",
       "      <td>True</td>\n",
       "      <td>collie</td>\n",
       "      <td>0.156665</td>\n",
       "      <td>True</td>\n",
       "      <td>Shetland_sheepdog</td>\n",
       "      <td>0.061428</td>\n",
       "      <td>True</td>\n",
       "    </tr>\n",
       "    <tr>\n",
       "      <th>1</th>\n",
       "      <td>666029285002620928</td>\n",
       "      <td>https://pbs.twimg.com/media/CT42GRgUYAA5iDo.jpg</td>\n",
       "      <td>1</td>\n",
       "      <td>redbone</td>\n",
       "      <td>0.506826</td>\n",
       "      <td>True</td>\n",
       "      <td>miniature_pinscher</td>\n",
       "      <td>0.074192</td>\n",
       "      <td>True</td>\n",
       "      <td>Rhodesian_ridgeback</td>\n",
       "      <td>0.072010</td>\n",
       "      <td>True</td>\n",
       "    </tr>\n",
       "    <tr>\n",
       "      <th>2</th>\n",
       "      <td>666033412701032449</td>\n",
       "      <td>https://pbs.twimg.com/media/CT4521TWwAEvMyu.jpg</td>\n",
       "      <td>1</td>\n",
       "      <td>German_shepherd</td>\n",
       "      <td>0.596461</td>\n",
       "      <td>True</td>\n",
       "      <td>malinois</td>\n",
       "      <td>0.138584</td>\n",
       "      <td>True</td>\n",
       "      <td>bloodhound</td>\n",
       "      <td>0.116197</td>\n",
       "      <td>True</td>\n",
       "    </tr>\n",
       "    <tr>\n",
       "      <th>3</th>\n",
       "      <td>666044226329800704</td>\n",
       "      <td>https://pbs.twimg.com/media/CT5Dr8HUEAA-lEu.jpg</td>\n",
       "      <td>1</td>\n",
       "      <td>Rhodesian_ridgeback</td>\n",
       "      <td>0.408143</td>\n",
       "      <td>True</td>\n",
       "      <td>redbone</td>\n",
       "      <td>0.360687</td>\n",
       "      <td>True</td>\n",
       "      <td>miniature_pinscher</td>\n",
       "      <td>0.222752</td>\n",
       "      <td>True</td>\n",
       "    </tr>\n",
       "    <tr>\n",
       "      <th>4</th>\n",
       "      <td>666049248165822465</td>\n",
       "      <td>https://pbs.twimg.com/media/CT5IQmsXIAAKY4A.jpg</td>\n",
       "      <td>1</td>\n",
       "      <td>miniature_pinscher</td>\n",
       "      <td>0.560311</td>\n",
       "      <td>True</td>\n",
       "      <td>Rottweiler</td>\n",
       "      <td>0.243682</td>\n",
       "      <td>True</td>\n",
       "      <td>Doberman</td>\n",
       "      <td>0.154629</td>\n",
       "      <td>True</td>\n",
       "    </tr>\n",
       "    <tr>\n",
       "      <th>5</th>\n",
       "      <td>666050758794694657</td>\n",
       "      <td>https://pbs.twimg.com/media/CT5Jof1WUAEuVxN.jpg</td>\n",
       "      <td>1</td>\n",
       "      <td>Bernese_mountain_dog</td>\n",
       "      <td>0.651137</td>\n",
       "      <td>True</td>\n",
       "      <td>English_springer</td>\n",
       "      <td>0.263788</td>\n",
       "      <td>True</td>\n",
       "      <td>Greater_Swiss_Mountain_dog</td>\n",
       "      <td>0.016199</td>\n",
       "      <td>True</td>\n",
       "    </tr>\n",
       "    <tr>\n",
       "      <th>6</th>\n",
       "      <td>666051853826850816</td>\n",
       "      <td>https://pbs.twimg.com/media/CT5KoJ1WoAAJash.jpg</td>\n",
       "      <td>1</td>\n",
       "      <td>box_turtle</td>\n",
       "      <td>0.933012</td>\n",
       "      <td>False</td>\n",
       "      <td>mud_turtle</td>\n",
       "      <td>0.045885</td>\n",
       "      <td>False</td>\n",
       "      <td>terrapin</td>\n",
       "      <td>0.017885</td>\n",
       "      <td>False</td>\n",
       "    </tr>\n",
       "    <tr>\n",
       "      <th>7</th>\n",
       "      <td>666055525042405380</td>\n",
       "      <td>https://pbs.twimg.com/media/CT5N9tpXIAAifs1.jpg</td>\n",
       "      <td>1</td>\n",
       "      <td>chow</td>\n",
       "      <td>0.692517</td>\n",
       "      <td>True</td>\n",
       "      <td>Tibetan_mastiff</td>\n",
       "      <td>0.058279</td>\n",
       "      <td>True</td>\n",
       "      <td>fur_coat</td>\n",
       "      <td>0.054449</td>\n",
       "      <td>False</td>\n",
       "    </tr>\n",
       "    <tr>\n",
       "      <th>8</th>\n",
       "      <td>666057090499244032</td>\n",
       "      <td>https://pbs.twimg.com/media/CT5PY90WoAAQGLo.jpg</td>\n",
       "      <td>1</td>\n",
       "      <td>shopping_cart</td>\n",
       "      <td>0.962465</td>\n",
       "      <td>False</td>\n",
       "      <td>shopping_basket</td>\n",
       "      <td>0.014594</td>\n",
       "      <td>False</td>\n",
       "      <td>golden_retriever</td>\n",
       "      <td>0.007959</td>\n",
       "      <td>True</td>\n",
       "    </tr>\n",
       "    <tr>\n",
       "      <th>9</th>\n",
       "      <td>666058600524156928</td>\n",
       "      <td>https://pbs.twimg.com/media/CT5Qw94XAAA_2dP.jpg</td>\n",
       "      <td>1</td>\n",
       "      <td>miniature_poodle</td>\n",
       "      <td>0.201493</td>\n",
       "      <td>True</td>\n",
       "      <td>komondor</td>\n",
       "      <td>0.192305</td>\n",
       "      <td>True</td>\n",
       "      <td>soft-coated_wheaten_terrier</td>\n",
       "      <td>0.082086</td>\n",
       "      <td>True</td>\n",
       "    </tr>\n",
       "  </tbody>\n",
       "</table>\n",
       "</div>"
      ],
      "text/plain": [
       "             tweet_id                                          jpg_url  \\\n",
       "0  666020888022790149  https://pbs.twimg.com/media/CT4udn0WwAA0aMy.jpg   \n",
       "1  666029285002620928  https://pbs.twimg.com/media/CT42GRgUYAA5iDo.jpg   \n",
       "2  666033412701032449  https://pbs.twimg.com/media/CT4521TWwAEvMyu.jpg   \n",
       "3  666044226329800704  https://pbs.twimg.com/media/CT5Dr8HUEAA-lEu.jpg   \n",
       "4  666049248165822465  https://pbs.twimg.com/media/CT5IQmsXIAAKY4A.jpg   \n",
       "5  666050758794694657  https://pbs.twimg.com/media/CT5Jof1WUAEuVxN.jpg   \n",
       "6  666051853826850816  https://pbs.twimg.com/media/CT5KoJ1WoAAJash.jpg   \n",
       "7  666055525042405380  https://pbs.twimg.com/media/CT5N9tpXIAAifs1.jpg   \n",
       "8  666057090499244032  https://pbs.twimg.com/media/CT5PY90WoAAQGLo.jpg   \n",
       "9  666058600524156928  https://pbs.twimg.com/media/CT5Qw94XAAA_2dP.jpg   \n",
       "\n",
       "   img_num                      p1   p1_conf  p1_dog                  p2  \\\n",
       "0        1  Welsh_springer_spaniel  0.465074    True              collie   \n",
       "1        1                 redbone  0.506826    True  miniature_pinscher   \n",
       "2        1         German_shepherd  0.596461    True            malinois   \n",
       "3        1     Rhodesian_ridgeback  0.408143    True             redbone   \n",
       "4        1      miniature_pinscher  0.560311    True          Rottweiler   \n",
       "5        1    Bernese_mountain_dog  0.651137    True    English_springer   \n",
       "6        1              box_turtle  0.933012   False          mud_turtle   \n",
       "7        1                    chow  0.692517    True     Tibetan_mastiff   \n",
       "8        1           shopping_cart  0.962465   False     shopping_basket   \n",
       "9        1        miniature_poodle  0.201493    True            komondor   \n",
       "\n",
       "    p2_conf  p2_dog                           p3   p3_conf  p3_dog  \n",
       "0  0.156665    True            Shetland_sheepdog  0.061428    True  \n",
       "1  0.074192    True          Rhodesian_ridgeback  0.072010    True  \n",
       "2  0.138584    True                   bloodhound  0.116197    True  \n",
       "3  0.360687    True           miniature_pinscher  0.222752    True  \n",
       "4  0.243682    True                     Doberman  0.154629    True  \n",
       "5  0.263788    True   Greater_Swiss_Mountain_dog  0.016199    True  \n",
       "6  0.045885   False                     terrapin  0.017885   False  \n",
       "7  0.058279    True                     fur_coat  0.054449   False  \n",
       "8  0.014594   False             golden_retriever  0.007959    True  \n",
       "9  0.192305    True  soft-coated_wheaten_terrier  0.082086    True  "
      ]
     },
     "execution_count": 10,
     "metadata": {},
     "output_type": "execute_result"
    }
   ],
   "source": [
    "data_image_archive.info()\n",
    "data_image_archive.head(10)"
   ]
  },
  {
   "cell_type": "markdown",
   "metadata": {},
   "source": [
    "- Há previsões que não são cachorros"
   ]
  },
  {
   "cell_type": "code",
   "execution_count": 11,
   "metadata": {},
   "outputs": [
    {
     "name": "stdout",
     "output_type": "stream",
     "text": [
      "<class 'pandas.core.frame.DataFrame'>\n",
      "Index: 2342 entries, 0 to 2341\n",
      "Data columns (total 3 columns):\n",
      "tweet_id          2342 non-null int64\n",
      "retweet_count     2342 non-null int64\n",
      "favorite_count    2342 non-null int64\n",
      "dtypes: int64(3)\n",
      "memory usage: 73.2+ KB\n"
     ]
    },
    {
     "data": {
      "text/html": [
       "<div>\n",
       "<style scoped>\n",
       "    .dataframe tbody tr th:only-of-type {\n",
       "        vertical-align: middle;\n",
       "    }\n",
       "\n",
       "    .dataframe tbody tr th {\n",
       "        vertical-align: top;\n",
       "    }\n",
       "\n",
       "    .dataframe thead th {\n",
       "        text-align: right;\n",
       "    }\n",
       "</style>\n",
       "<table border=\"1\" class=\"dataframe\">\n",
       "  <thead>\n",
       "    <tr style=\"text-align: right;\">\n",
       "      <th></th>\n",
       "      <th>tweet_id</th>\n",
       "      <th>retweet_count</th>\n",
       "      <th>favorite_count</th>\n",
       "    </tr>\n",
       "  </thead>\n",
       "  <tbody>\n",
       "    <tr>\n",
       "      <th>0</th>\n",
       "      <td>892420643555336193</td>\n",
       "      <td>8381</td>\n",
       "      <td>38259</td>\n",
       "    </tr>\n",
       "    <tr>\n",
       "      <th>1</th>\n",
       "      <td>892177421306343426</td>\n",
       "      <td>6188</td>\n",
       "      <td>32798</td>\n",
       "    </tr>\n",
       "    <tr>\n",
       "      <th>2</th>\n",
       "      <td>891815181378084864</td>\n",
       "      <td>4093</td>\n",
       "      <td>24692</td>\n",
       "    </tr>\n",
       "    <tr>\n",
       "      <th>3</th>\n",
       "      <td>891689557279858688</td>\n",
       "      <td>8522</td>\n",
       "      <td>41582</td>\n",
       "    </tr>\n",
       "    <tr>\n",
       "      <th>4</th>\n",
       "      <td>891327558926688256</td>\n",
       "      <td>9230</td>\n",
       "      <td>39763</td>\n",
       "    </tr>\n",
       "  </tbody>\n",
       "</table>\n",
       "</div>"
      ],
      "text/plain": [
       "             tweet_id  retweet_count  favorite_count\n",
       "0  892420643555336193           8381           38259\n",
       "1  892177421306343426           6188           32798\n",
       "2  891815181378084864           4093           24692\n",
       "3  891689557279858688           8522           41582\n",
       "4  891327558926688256           9230           39763"
      ]
     },
     "execution_count": 11,
     "metadata": {},
     "output_type": "execute_result"
    }
   ],
   "source": [
    "twitter_favorites_retweet.info()\n",
    "twitter_favorites_retweet.head(5)"
   ]
  },
  {
   "cell_type": "markdown",
   "metadata": {},
   "source": [
    "- Não foi possível buscar as informações para todos os twitters do arquivo disponibilizado, assim o arquivo twitter_favorites_retweet possui menos linhas que o arquivo de data_twitter_archive."
   ]
  },
  {
   "cell_type": "markdown",
   "metadata": {},
   "source": [
    "## Qualidade\n",
    "- Nomes de cachorros que estão incorretos. Ex.: 'a', 'the', 'an', 'None'\n",
    "- Há twits que são retweets e devem ser retirados, já que queremos somente os twitters originais\n",
    "- A coluna timestamp, do arquivo data_twitter_archive apresenta o tipo de dado errado.\n",
    "- Falta imagens para alguns twittes\n",
    "- Há previsões que não são cachorros\n",
    "- Falta os valores de retweets e favorite para alguns twitters\n",
    "- Nas colunas  doggo, floofer, pupper, puppo 'None' não é tratado como null\n",
    "- Estão faltando dados de expanded_urls, há somente 2297 valores.\n",
    "\n",
    "## Arrumação\n",
    "- No dataframe de twitters as colunas doggo, floofer, pupper, puppo devem ser agrupados em uma só coluna\n",
    "- A coluna de rating deveria ser única e não dividida em duas (numerador e denominador)\n",
    "- As tabelas deveriam fazer parte de um único dataset\n",
    "- Falta uma coluna para indicar a raça mais provável"
   ]
  },
  {
   "cell_type": "markdown",
   "metadata": {},
   "source": [
    "# Limpar dados"
   ]
  },
  {
   "cell_type": "code",
   "execution_count": 12,
   "metadata": {},
   "outputs": [],
   "source": [
    "clean_twitters_fv_rt = twitter_favorites_retweet.copy()\n",
    "clean_twitter_archive = data_twitter_archive.copy()\n",
    "clean_twitter_image = data_image_archive.copy()"
   ]
  },
  {
   "cell_type": "markdown",
   "metadata": {},
   "source": [
    "### Definir\n",
    "- Problema: Há twitters que são retweets e devem ser retirados, já que queremos somente os twitters originais\n",
    "- Resolução: Retirar registros de retweets e retirar colunas que se referem a eles retweeted_status_id, retweeted_status_user_id e retweeted_status_timestamp"
   ]
  },
  {
   "cell_type": "markdown",
   "metadata": {},
   "source": [
    "### Código"
   ]
  },
  {
   "cell_type": "code",
   "execution_count": 13,
   "metadata": {},
   "outputs": [],
   "source": [
    "clean_twitter_archive = clean_twitter_archive[clean_twitter_archive.retweeted_status_id.isnull()]\n",
    "clean_twitter_archive = clean_twitter_archive.drop(['retweeted_status_id','retweeted_status_user_id','retweeted_status_timestamp'],axis=1)"
   ]
  },
  {
   "cell_type": "markdown",
   "metadata": {},
   "source": [
    "### Testar"
   ]
  },
  {
   "cell_type": "code",
   "execution_count": 14,
   "metadata": {},
   "outputs": [
    {
     "name": "stdout",
     "output_type": "stream",
     "text": [
      "<class 'pandas.core.frame.DataFrame'>\n",
      "Int64Index: 2175 entries, 0 to 2355\n",
      "Data columns (total 14 columns):\n",
      "tweet_id                 2175 non-null int64\n",
      "in_reply_to_status_id    78 non-null float64\n",
      "in_reply_to_user_id      78 non-null float64\n",
      "timestamp                2175 non-null object\n",
      "source                   2175 non-null object\n",
      "text                     2175 non-null object\n",
      "expanded_urls            2117 non-null object\n",
      "rating_numerator         2175 non-null int64\n",
      "rating_denominator       2175 non-null int64\n",
      "name                     2175 non-null object\n",
      "doggo                    2175 non-null object\n",
      "floofer                  2175 non-null object\n",
      "pupper                   2175 non-null object\n",
      "puppo                    2175 non-null object\n",
      "dtypes: float64(2), int64(3), object(9)\n",
      "memory usage: 254.9+ KB\n"
     ]
    }
   ],
   "source": [
    "clean_twitter_archive.info()"
   ]
  },
  {
   "cell_type": "markdown",
   "metadata": {},
   "source": [
    "### Definir\n",
    "- Problema: As tabelas deveriam fazer parte de um único dataset, Falta imagens para alguns twittes, Falta os valores de retweets e favorite para alguns twitters e falta dados de expanded_urls, há somente 2297 valores.\n",
    "- Solução: Unir os dataset em uma tabela, garantindo assim um dataset que possui twittes que possuem imagem e a contagem de retweets e favorites. "
   ]
  },
  {
   "cell_type": "markdown",
   "metadata": {},
   "source": [
    "### Código"
   ]
  },
  {
   "cell_type": "code",
   "execution_count": 15,
   "metadata": {},
   "outputs": [],
   "source": [
    "twitter_archive_master = pd.merge(clean_twitter_archive, clean_twitter_image, on='tweet_id', how='inner')\n",
    "twitter_archive_master = pd.merge(twitter_archive_master, clean_twitters_fv_rt, on='tweet_id', how='inner')"
   ]
  },
  {
   "cell_type": "markdown",
   "metadata": {},
   "source": [
    "### Testar"
   ]
  },
  {
   "cell_type": "code",
   "execution_count": 16,
   "metadata": {},
   "outputs": [
    {
     "name": "stdout",
     "output_type": "stream",
     "text": [
      "<class 'pandas.core.frame.DataFrame'>\n",
      "Int64Index: 1993 entries, 0 to 1992\n",
      "Data columns (total 27 columns):\n",
      "tweet_id                 1993 non-null int64\n",
      "in_reply_to_status_id    23 non-null float64\n",
      "in_reply_to_user_id      23 non-null float64\n",
      "timestamp                1993 non-null object\n",
      "source                   1993 non-null object\n",
      "text                     1993 non-null object\n",
      "expanded_urls            1993 non-null object\n",
      "rating_numerator         1993 non-null int64\n",
      "rating_denominator       1993 non-null int64\n",
      "name                     1993 non-null object\n",
      "doggo                    1993 non-null object\n",
      "floofer                  1993 non-null object\n",
      "pupper                   1993 non-null object\n",
      "puppo                    1993 non-null object\n",
      "jpg_url                  1993 non-null object\n",
      "img_num                  1993 non-null int64\n",
      "p1                       1993 non-null object\n",
      "p1_conf                  1993 non-null float64\n",
      "p1_dog                   1993 non-null bool\n",
      "p2                       1993 non-null object\n",
      "p2_conf                  1993 non-null float64\n",
      "p2_dog                   1993 non-null bool\n",
      "p3                       1993 non-null object\n",
      "p3_conf                  1993 non-null float64\n",
      "p3_dog                   1993 non-null bool\n",
      "retweet_count            1993 non-null int64\n",
      "favorite_count           1993 non-null int64\n",
      "dtypes: bool(3), float64(5), int64(6), object(13)\n",
      "memory usage: 395.1+ KB\n"
     ]
    }
   ],
   "source": [
    "twitter_archive_master.info()"
   ]
  },
  {
   "cell_type": "markdown",
   "metadata": {},
   "source": [
    "- Em alguns casos há mais de uma imagem para o cada tweet"
   ]
  },
  {
   "cell_type": "markdown",
   "metadata": {},
   "source": [
    "### Definir\n",
    "- Problema: No dataframe de twitters as colunas doggo, floofer, pupper, puppo representam o mesmo tipo de dado, nessas colunas o 'None' não é tratado como null \n",
    "- Solução: Criar uma coluna para receber esses valores e tratar 'None' como null"
   ]
  },
  {
   "cell_type": "markdown",
   "metadata": {},
   "source": [
    "### Código"
   ]
  },
  {
   "cell_type": "code",
   "execution_count": 17,
   "metadata": {},
   "outputs": [],
   "source": [
    "twitter_archive_master.doggo = twitter_archive_master.doggo.replace('None', '')\n",
    "twitter_archive_master.floofer = twitter_archive_master.floofer.replace('None', '')\n",
    "twitter_archive_master.pupper =  twitter_archive_master.pupper.replace('None', '')\n",
    "twitter_archive_master.puppo = twitter_archive_master.puppo.replace('None', '')\n",
    "\n",
    "twitter_archive_master.floofer.value_counts()\n",
    "twitter_archive_master.pupper.value_counts()\n",
    "twitter_archive_master.puppo.value_counts()\n",
    "\n",
    "twitter_archive_master[\"estagio\"] = twitter_archive_master.floofer.map(str)+twitter_archive_master.pupper.map(str) + twitter_archive_master.puppo.map(str)+twitter_archive_master.doggo.map(str)\n",
    "twitter_archive_master.estagio = twitter_archive_master.estagio.replace('', np.nan)\n",
    "\n",
    "twitter_archive_master = twitter_archive_master.drop(['doggo','floofer','pupper', 'puppo'],axis=1)"
   ]
  },
  {
   "cell_type": "markdown",
   "metadata": {},
   "source": [
    "### Testar"
   ]
  },
  {
   "cell_type": "code",
   "execution_count": 18,
   "metadata": {},
   "outputs": [
    {
     "name": "stdout",
     "output_type": "stream",
     "text": [
      "<class 'pandas.core.frame.DataFrame'>\n",
      "Int64Index: 1993 entries, 0 to 1992\n",
      "Data columns (total 24 columns):\n",
      "tweet_id                 1993 non-null int64\n",
      "in_reply_to_status_id    23 non-null float64\n",
      "in_reply_to_user_id      23 non-null float64\n",
      "timestamp                1993 non-null object\n",
      "source                   1993 non-null object\n",
      "text                     1993 non-null object\n",
      "expanded_urls            1993 non-null object\n",
      "rating_numerator         1993 non-null int64\n",
      "rating_denominator       1993 non-null int64\n",
      "name                     1993 non-null object\n",
      "jpg_url                  1993 non-null object\n",
      "img_num                  1993 non-null int64\n",
      "p1                       1993 non-null object\n",
      "p1_conf                  1993 non-null float64\n",
      "p1_dog                   1993 non-null bool\n",
      "p2                       1993 non-null object\n",
      "p2_conf                  1993 non-null float64\n",
      "p2_dog                   1993 non-null bool\n",
      "p3                       1993 non-null object\n",
      "p3_conf                  1993 non-null float64\n",
      "p3_dog                   1993 non-null bool\n",
      "retweet_count            1993 non-null int64\n",
      "favorite_count           1993 non-null int64\n",
      "estagio                  306 non-null object\n",
      "dtypes: bool(3), float64(5), int64(6), object(10)\n",
      "memory usage: 348.4+ KB\n"
     ]
    },
    {
     "data": {
      "text/plain": [
       "pupper          203\n",
       "doggo            63\n",
       "puppo            22\n",
       "pupperdoggo       9\n",
       "floofer           7\n",
       "flooferdoggo      1\n",
       "puppodoggo        1\n",
       "Name: estagio, dtype: int64"
      ]
     },
     "execution_count": 18,
     "metadata": {},
     "output_type": "execute_result"
    }
   ],
   "source": [
    "twitter_archive_master.info()\n",
    "twitter_archive_master.estagio.value_counts()"
   ]
  },
  {
   "cell_type": "markdown",
   "metadata": {},
   "source": [
    "- Há mais de classificação para os cachorros, para resolver esse problema iremos manter a primeira classificação "
   ]
  },
  {
   "cell_type": "code",
   "execution_count": 19,
   "metadata": {},
   "outputs": [],
   "source": [
    "twitter_archive_master.estagio = twitter_archive_master.estagio.replace('pupperdoggo', 'pupper')\n",
    "twitter_archive_master.estagio = twitter_archive_master.estagio.replace('flooferdoggo', 'floofer')\n",
    "twitter_archive_master.estagio = twitter_archive_master.estagio.replace('puppodoggo', 'puppo')"
   ]
  },
  {
   "cell_type": "code",
   "execution_count": 20,
   "metadata": {},
   "outputs": [
    {
     "data": {
      "text/plain": [
       "pupper     212\n",
       "doggo       63\n",
       "puppo       23\n",
       "floofer      8\n",
       "Name: estagio, dtype: int64"
      ]
     },
     "execution_count": 20,
     "metadata": {},
     "output_type": "execute_result"
    }
   ],
   "source": [
    "twitter_archive_master.estagio.value_counts()"
   ]
  },
  {
   "cell_type": "markdown",
   "metadata": {},
   "source": [
    "### Definir \n",
    "- Problema: A coluna timestamp, do arquivo data_twitter_archive apresenta o tipo de dado errado.\n",
    "- Solução: Realizar um cast na coluna"
   ]
  },
  {
   "cell_type": "markdown",
   "metadata": {},
   "source": [
    "### Código "
   ]
  },
  {
   "cell_type": "code",
   "execution_count": 21,
   "metadata": {},
   "outputs": [],
   "source": [
    "twitter_archive_master.timestamp = pd.to_datetime(twitter_archive_master.timestamp)"
   ]
  },
  {
   "cell_type": "markdown",
   "metadata": {},
   "source": [
    "### Testar"
   ]
  },
  {
   "cell_type": "code",
   "execution_count": 22,
   "metadata": {},
   "outputs": [
    {
     "name": "stdout",
     "output_type": "stream",
     "text": [
      "<class 'pandas.core.frame.DataFrame'>\n",
      "Int64Index: 1993 entries, 0 to 1992\n",
      "Data columns (total 24 columns):\n",
      "tweet_id                 1993 non-null int64\n",
      "in_reply_to_status_id    23 non-null float64\n",
      "in_reply_to_user_id      23 non-null float64\n",
      "timestamp                1993 non-null datetime64[ns]\n",
      "source                   1993 non-null object\n",
      "text                     1993 non-null object\n",
      "expanded_urls            1993 non-null object\n",
      "rating_numerator         1993 non-null int64\n",
      "rating_denominator       1993 non-null int64\n",
      "name                     1993 non-null object\n",
      "jpg_url                  1993 non-null object\n",
      "img_num                  1993 non-null int64\n",
      "p1                       1993 non-null object\n",
      "p1_conf                  1993 non-null float64\n",
      "p1_dog                   1993 non-null bool\n",
      "p2                       1993 non-null object\n",
      "p2_conf                  1993 non-null float64\n",
      "p2_dog                   1993 non-null bool\n",
      "p3                       1993 non-null object\n",
      "p3_conf                  1993 non-null float64\n",
      "p3_dog                   1993 non-null bool\n",
      "retweet_count            1993 non-null int64\n",
      "favorite_count           1993 non-null int64\n",
      "estagio                  306 non-null object\n",
      "dtypes: bool(3), datetime64[ns](1), float64(5), int64(6), object(9)\n",
      "memory usage: 348.4+ KB\n"
     ]
    }
   ],
   "source": [
    "twitter_archive_master.info()"
   ]
  },
  {
   "cell_type": "markdown",
   "metadata": {},
   "source": [
    "### Definir \n",
    "- Problema: - Há nomes incorretos para os cachorros. Ex.: 'a', 'the', 'an' e 'None'. Os que se iniciam com em letra minúscula e o 'None'\n",
    "- Solução: Subustituir dados incorretos por NaN"
   ]
  },
  {
   "cell_type": "markdown",
   "metadata": {},
   "source": [
    "### Código"
   ]
  },
  {
   "cell_type": "code",
   "execution_count": 23,
   "metadata": {},
   "outputs": [],
   "source": [
    "twitter_archive_master.name = twitter_archive_master.name.replace('None', np.NaN)\n",
    "twitter_archive_master.name = twitter_archive_master.name.replace('a', np.NaN)\n",
    "twitter_archive_master.name = twitter_archive_master.name.replace('the', np.NaN)\n",
    "twitter_archive_master.name = twitter_archive_master.name.replace('an', np.NaN)"
   ]
  },
  {
   "cell_type": "markdown",
   "metadata": {},
   "source": [
    "### Testar"
   ]
  },
  {
   "cell_type": "code",
   "execution_count": 24,
   "metadata": {},
   "outputs": [
    {
     "data": {
      "text/plain": [
       "Oliver       10\n",
       "Charlie      10\n",
       "Cooper       10\n",
       "Lucy         10\n",
       "Penny         9\n",
       "Tucker        9\n",
       "Winston       8\n",
       "Sadie         8\n",
       "Lola          7\n",
       "Toby          7\n",
       "Daisy         7\n",
       "Bo            6\n",
       "Stanley       6\n",
       "Koda          6\n",
       "Bella         6\n",
       "Jax           6\n",
       "Leo           5\n",
       "Louis         5\n",
       "Dave          5\n",
       "Scout         5\n",
       "Buddy         5\n",
       "Bailey        5\n",
       "Milo          5\n",
       "Oscar         5\n",
       "Rusty         5\n",
       "Chester       5\n",
       "Derek         4\n",
       "Clarence      4\n",
       "Brody         4\n",
       "Gus           4\n",
       "             ..\n",
       "Coleman       1\n",
       "Skye          1\n",
       "Jaspers       1\n",
       "BeBe          1\n",
       "Dante         1\n",
       "Paull         1\n",
       "Murphy        1\n",
       "Kallie        1\n",
       "Leonard       1\n",
       "Tassy         1\n",
       "Cermet        1\n",
       "Sage          1\n",
       "Rambo         1\n",
       "Sojourner     1\n",
       "Ace           1\n",
       "Bloop         1\n",
       "Alfy          1\n",
       "Jeb           1\n",
       "Luther        1\n",
       "Dixie         1\n",
       "Augie         1\n",
       "Claude        1\n",
       "Stu           1\n",
       "Juckson       1\n",
       "Ozzy          1\n",
       "Chuq          1\n",
       "Blanket       1\n",
       "Herb          1\n",
       "Bloo          1\n",
       "Carper        1\n",
       "Name: name, Length: 932, dtype: int64"
      ]
     },
     "execution_count": 24,
     "metadata": {},
     "output_type": "execute_result"
    }
   ],
   "source": [
    "twitter_archive_master.name.value_counts()"
   ]
  },
  {
   "cell_type": "markdown",
   "metadata": {},
   "source": [
    "### Definir \n",
    "- Problema: A coluna de rating deveria ser única e não dividida em duas (numerador e denominador)\n",
    "- Solução: Criação de uma coluna para receber os valores de rating"
   ]
  },
  {
   "cell_type": "markdown",
   "metadata": {},
   "source": [
    "### Código"
   ]
  },
  {
   "cell_type": "code",
   "execution_count": 25,
   "metadata": {},
   "outputs": [],
   "source": [
    "twitter_archive_master['rating'] = twitter_archive_master['rating_numerator']/twitter_archive_master['rating_denominator']\n",
    "twitter_archive_master = twitter_archive_master.drop(['rating_numerator','rating_denominator'],axis=1)"
   ]
  },
  {
   "cell_type": "markdown",
   "metadata": {},
   "source": [
    "### Testar"
   ]
  },
  {
   "cell_type": "code",
   "execution_count": 26,
   "metadata": {},
   "outputs": [
    {
     "name": "stdout",
     "output_type": "stream",
     "text": [
      "<class 'pandas.core.frame.DataFrame'>\n",
      "Int64Index: 1993 entries, 0 to 1992\n",
      "Data columns (total 23 columns):\n",
      "tweet_id                 1993 non-null int64\n",
      "in_reply_to_status_id    23 non-null float64\n",
      "in_reply_to_user_id      23 non-null float64\n",
      "timestamp                1993 non-null datetime64[ns]\n",
      "source                   1993 non-null object\n",
      "text                     1993 non-null object\n",
      "expanded_urls            1993 non-null object\n",
      "name                     1379 non-null object\n",
      "jpg_url                  1993 non-null object\n",
      "img_num                  1993 non-null int64\n",
      "p1                       1993 non-null object\n",
      "p1_conf                  1993 non-null float64\n",
      "p1_dog                   1993 non-null bool\n",
      "p2                       1993 non-null object\n",
      "p2_conf                  1993 non-null float64\n",
      "p2_dog                   1993 non-null bool\n",
      "p3                       1993 non-null object\n",
      "p3_conf                  1993 non-null float64\n",
      "p3_dog                   1993 non-null bool\n",
      "retweet_count            1993 non-null int64\n",
      "favorite_count           1993 non-null int64\n",
      "estagio                  306 non-null object\n",
      "rating                   1993 non-null float64\n",
      "dtypes: bool(3), datetime64[ns](1), float64(6), int64(4), object(9)\n",
      "memory usage: 332.8+ KB\n"
     ]
    }
   ],
   "source": [
    "twitter_archive_master.info()"
   ]
  },
  {
   "cell_type": "markdown",
   "metadata": {},
   "source": [
    "### Definir \n",
    "- Problema: Há previsões que não são cachorros e falta uma coluna para indicar a raça mais provável\n",
    "- Solução: Criação de uma coluna para indicar qual a raça mais provável, desconsiderado as previsões que não são cachorros. "
   ]
  },
  {
   "cell_type": "markdown",
   "metadata": {},
   "source": [
    "### Código"
   ]
  },
  {
   "cell_type": "code",
   "execution_count": 27,
   "metadata": {},
   "outputs": [],
   "source": [
    "twitter_archive_master['breed'] = '...'\n",
    "for i, row in twitter_archive_master.iterrows():\n",
    "    breed = np.NaN\n",
    "    if((row['p1_conf']>=row['p2_conf']) and (row['p1_conf']>=row['p3_conf']) and (row['p1_dog']==True)):\n",
    "        breed = row['p1']\n",
    "    elif((row['p2_conf']>=row['p1_conf']) and (row['p2_conf']>=row['p3_conf']) and (row['p2_dog']==True)):\n",
    "        breed = row['p2']\n",
    "    elif((row['p3_conf']>=row['p1_conf']) and (row['p3_conf']>=row['p2_conf']) and (row['p3_dog']==True)):\n",
    "        breed = row['p3']\n",
    "    twitter_archive_master.at[i, 'breed'] = breed"
   ]
  },
  {
   "cell_type": "markdown",
   "metadata": {},
   "source": [
    "### Testar"
   ]
  },
  {
   "cell_type": "code",
   "execution_count": 28,
   "metadata": {},
   "outputs": [
    {
     "data": {
      "text/plain": [
       "golden_retriever               139\n",
       "Labrador_retriever              95\n",
       "Pembroke                        88\n",
       "Chihuahua                       79\n",
       "pug                             54\n",
       "chow                            41\n",
       "Samoyed                         40\n",
       "Pomeranian                      38\n",
       "toy_poodle                      38\n",
       "malamute                        29\n",
       "cocker_spaniel                  27\n",
       "French_bulldog                  25\n",
       "Chesapeake_Bay_retriever        23\n",
       "miniature_pinscher              22\n",
       "Siberian_husky                  20\n",
       "German_shepherd                 20\n",
       "Staffordshire_bullterrier       19\n",
       "Eskimo_dog                      18\n",
       "Shetland_sheepdog               18\n",
       "Maltese_dog                     18\n",
       "Shih-Tzu                        17\n",
       "beagle                          17\n",
       "Rottweiler                      17\n",
       "Cardigan                        17\n",
       "Italian_greyhound               16\n",
       "Lakeland_terrier                16\n",
       "kuvasz                          16\n",
       "Great_Pyrenees                  14\n",
       "West_Highland_white_terrier     14\n",
       "Pekinese                        13\n",
       "                              ... \n",
       "Weimaraner                       4\n",
       "Norwich_terrier                  4\n",
       "keeshond                         4\n",
       "Gordon_setter                    4\n",
       "Afghan_hound                     3\n",
       "Welsh_springer_spaniel           3\n",
       "Greater_Swiss_Mountain_dog       3\n",
       "briard                           3\n",
       "Ibizan_hound                     3\n",
       "giant_schnauzer                  3\n",
       "Scottish_deerhound               3\n",
       "cairn                            3\n",
       "komondor                         3\n",
       "curly-coated_retriever           3\n",
       "Brabancon_griffon                3\n",
       "Irish_water_spaniel              3\n",
       "Leonberg                         3\n",
       "wire-haired_fox_terrier          2\n",
       "black-and-tan_coonhound          2\n",
       "toy_terrier                      2\n",
       "Appenzeller                      2\n",
       "Australian_terrier               2\n",
       "Sussex_spaniel                   2\n",
       "Japanese_spaniel                 1\n",
       "Scotch_terrier                   1\n",
       "standard_schnauzer               1\n",
       "clumber                          1\n",
       "silky_terrier                    1\n",
       "groenendael                      1\n",
       "EntleBucher                      1\n",
       "Name: breed, Length: 111, dtype: int64"
      ]
     },
     "execution_count": 28,
     "metadata": {},
     "output_type": "execute_result"
    }
   ],
   "source": [
    "twitter_archive_master.breed.value_counts()"
   ]
  },
  {
   "cell_type": "markdown",
   "metadata": {},
   "source": [
    "# Armazenar dados"
   ]
  },
  {
   "cell_type": "code",
   "execution_count": 29,
   "metadata": {},
   "outputs": [],
   "source": [
    "twitter_archive_master.to_csv(path_or_buf='twitter_archive_master.csv')"
   ]
  },
  {
   "cell_type": "markdown",
   "metadata": {},
   "source": [
    "# Analisar dados"
   ]
  },
  {
   "cell_type": "code",
   "execution_count": 54,
   "metadata": {},
   "outputs": [
    {
     "data": {
      "image/png": "[encoded data removed]",
      "text/plain": [
       "<Figure size 1080x360 with 2 Axes>"
      ]
     },
     "metadata": {},
     "output_type": "display_data"
    }
   ],
   "source": [
    "dados = pd.read_csv('twitter_archive_master.csv')\n",
    "dados.timestamp = pd.to_datetime(dados.timestamp)\n",
    "mpl_data = mdates.date2num(dados.timestamp.values)\n",
    "retweet_count = dados.retweet_count.values\n",
    "favorite_count = dados.favorite_count.values\n",
    "plt.rcParams['figure.figsize'] = [15,5]\n",
    "ax = plt.subplot(2, 1, 1)\n",
    "\n",
    "ax.plot(mpl_data, retweet_count)\n",
    "ax.xaxis.set_major_locator(mdates.MonthLocator())\n",
    "ax.xaxis.set_major_formatter(mdates.DateFormatter('%m.%y'))\n",
    "ax.set(ylabel='Retweet Count')\n",
    "\n",
    "\n",
    "ax2 = plt.subplot(2, 1, 2)\n",
    "\n",
    "ax2.plot(mpl_data, favorite_count)\n",
    "ax2.xaxis.set_major_locator(mdates.MonthLocator())\n",
    "ax2.xaxis.set_major_formatter(mdates.DateFormatter('%m.%y'))\n",
    "ax2.set(xlabel='Timestamp', ylabel='Favorite Count')\n",
    "\n",
    "\n",
    "plt.show()"
   ]
  },
  {
   "cell_type": "code",
   "execution_count": 57,
   "metadata": {},
   "outputs": [
    {
     "data": {
      "text/plain": [
       "[Text(0,0.5,'Retweet Count'), Text(0.5,0,'Favorite Count')]"
      ]
     },
     "execution_count": 57,
     "metadata": {},
     "output_type": "execute_result"
    },
    {
     "data": {
      "image/png": "[encoded data removed]",
      "text/plain": [
       "<Figure size 1080x360 with 1 Axes>"
      ]
     },
     "metadata": {},
     "output_type": "display_data"
    }
   ],
   "source": [
    "ax = plt.subplot()\n",
    "\n",
    "ax.plot(favorite_count, retweet_count)\n",
    "\n",
    "ax.set(xlabel='Favorite Count',ylabel='Retweet Count')"
   ]
  },
  {
   "cell_type": "code",
   "execution_count": 65,
   "metadata": {},
   "outputs": [
    {
     "data": {
      "text/html": [
       "<div>\n",
       "<style scoped>\n",
       "    .dataframe tbody tr th:only-of-type {\n",
       "        vertical-align: middle;\n",
       "    }\n",
       "\n",
       "    .dataframe tbody tr th {\n",
       "        vertical-align: top;\n",
       "    }\n",
       "\n",
       "    .dataframe thead th {\n",
       "        text-align: right;\n",
       "    }\n",
       "</style>\n",
       "<table border=\"1\" class=\"dataframe\">\n",
       "  <thead>\n",
       "    <tr style=\"text-align: right;\">\n",
       "      <th></th>\n",
       "      <th>Unnamed: 0</th>\n",
       "      <th>tweet_id</th>\n",
       "      <th>in_reply_to_status_id</th>\n",
       "      <th>in_reply_to_user_id</th>\n",
       "      <th>img_num</th>\n",
       "      <th>p1_conf</th>\n",
       "      <th>p1_dog</th>\n",
       "      <th>p2_conf</th>\n",
       "      <th>p2_dog</th>\n",
       "      <th>p3_conf</th>\n",
       "      <th>p3_dog</th>\n",
       "      <th>retweet_count</th>\n",
       "      <th>favorite_count</th>\n",
       "      <th>rating</th>\n",
       "    </tr>\n",
       "  </thead>\n",
       "  <tbody>\n",
       "    <tr>\n",
       "      <th>Unnamed: 0</th>\n",
       "      <td>1.000000</td>\n",
       "      <td>-0.950987</td>\n",
       "      <td>-0.680620</td>\n",
       "      <td>NaN</td>\n",
       "      <td>-0.230180</td>\n",
       "      <td>-0.107483</td>\n",
       "      <td>-0.130284</td>\n",
       "      <td>0.006726</td>\n",
       "      <td>-0.130104</td>\n",
       "      <td>0.053340</td>\n",
       "      <td>-0.107937</td>\n",
       "      <td>-0.369030</td>\n",
       "      <td>-0.560893</td>\n",
       "      <td>-0.033403</td>\n",
       "    </tr>\n",
       "    <tr>\n",
       "      <th>tweet_id</th>\n",
       "      <td>-0.950987</td>\n",
       "      <td>1.000000</td>\n",
       "      <td>0.685117</td>\n",
       "      <td>NaN</td>\n",
       "      <td>0.212914</td>\n",
       "      <td>0.106467</td>\n",
       "      <td>0.120589</td>\n",
       "      <td>-0.002745</td>\n",
       "      <td>0.123729</td>\n",
       "      <td>-0.049229</td>\n",
       "      <td>0.097605</td>\n",
       "      <td>0.384626</td>\n",
       "      <td>0.612483</td>\n",
       "      <td>0.028658</td>\n",
       "    </tr>\n",
       "    <tr>\n",
       "      <th>in_reply_to_status_id</th>\n",
       "      <td>-0.680620</td>\n",
       "      <td>0.685117</td>\n",
       "      <td>1.000000</td>\n",
       "      <td>NaN</td>\n",
       "      <td>0.076881</td>\n",
       "      <td>0.425057</td>\n",
       "      <td>-0.079810</td>\n",
       "      <td>-0.392543</td>\n",
       "      <td>-0.210564</td>\n",
       "      <td>-0.341782</td>\n",
       "      <td>0.133557</td>\n",
       "      <td>0.167874</td>\n",
       "      <td>0.598890</td>\n",
       "      <td>-0.106925</td>\n",
       "    </tr>\n",
       "    <tr>\n",
       "      <th>in_reply_to_user_id</th>\n",
       "      <td>NaN</td>\n",
       "      <td>NaN</td>\n",
       "      <td>NaN</td>\n",
       "      <td>NaN</td>\n",
       "      <td>NaN</td>\n",
       "      <td>NaN</td>\n",
       "      <td>NaN</td>\n",
       "      <td>NaN</td>\n",
       "      <td>NaN</td>\n",
       "      <td>NaN</td>\n",
       "      <td>NaN</td>\n",
       "      <td>NaN</td>\n",
       "      <td>NaN</td>\n",
       "      <td>NaN</td>\n",
       "    </tr>\n",
       "    <tr>\n",
       "      <th>img_num</th>\n",
       "      <td>-0.230180</td>\n",
       "      <td>0.212914</td>\n",
       "      <td>0.076881</td>\n",
       "      <td>NaN</td>\n",
       "      <td>1.000000</td>\n",
       "      <td>0.204418</td>\n",
       "      <td>0.032786</td>\n",
       "      <td>-0.156602</td>\n",
       "      <td>0.052465</td>\n",
       "      <td>-0.141426</td>\n",
       "      <td>0.062845</td>\n",
       "      <td>0.103734</td>\n",
       "      <td>0.130053</td>\n",
       "      <td>0.000021</td>\n",
       "    </tr>\n",
       "    <tr>\n",
       "      <th>p1_conf</th>\n",
       "      <td>-0.107483</td>\n",
       "      <td>0.106467</td>\n",
       "      <td>0.425057</td>\n",
       "      <td>NaN</td>\n",
       "      <td>0.204418</td>\n",
       "      <td>1.000000</td>\n",
       "      <td>0.126965</td>\n",
       "      <td>-0.509792</td>\n",
       "      <td>0.142273</td>\n",
       "      <td>-0.707994</td>\n",
       "      <td>0.119394</td>\n",
       "      <td>0.050755</td>\n",
       "      <td>0.074537</td>\n",
       "      <td>-0.008526</td>\n",
       "    </tr>\n",
       "    <tr>\n",
       "      <th>p1_dog</th>\n",
       "      <td>-0.130284</td>\n",
       "      <td>0.120589</td>\n",
       "      <td>-0.079810</td>\n",
       "      <td>NaN</td>\n",
       "      <td>0.032786</td>\n",
       "      <td>0.126965</td>\n",
       "      <td>1.000000</td>\n",
       "      <td>0.108866</td>\n",
       "      <td>0.635636</td>\n",
       "      <td>0.045794</td>\n",
       "      <td>0.558523</td>\n",
       "      <td>0.004314</td>\n",
       "      <td>0.045256</td>\n",
       "      <td>-0.029172</td>\n",
       "    </tr>\n",
       "    <tr>\n",
       "      <th>p2_conf</th>\n",
       "      <td>0.006726</td>\n",
       "      <td>-0.002745</td>\n",
       "      <td>-0.392543</td>\n",
       "      <td>NaN</td>\n",
       "      <td>-0.156602</td>\n",
       "      <td>-0.509792</td>\n",
       "      <td>0.108866</td>\n",
       "      <td>1.000000</td>\n",
       "      <td>0.095718</td>\n",
       "      <td>0.481020</td>\n",
       "      <td>0.063323</td>\n",
       "      <td>-0.015913</td>\n",
       "      <td>-0.018413</td>\n",
       "      <td>-0.014035</td>\n",
       "    </tr>\n",
       "    <tr>\n",
       "      <th>p2_dog</th>\n",
       "      <td>-0.130104</td>\n",
       "      <td>0.123729</td>\n",
       "      <td>-0.210564</td>\n",
       "      <td>NaN</td>\n",
       "      <td>0.052465</td>\n",
       "      <td>0.142273</td>\n",
       "      <td>0.635636</td>\n",
       "      <td>0.095718</td>\n",
       "      <td>1.000000</td>\n",
       "      <td>0.033575</td>\n",
       "      <td>0.554565</td>\n",
       "      <td>0.014576</td>\n",
       "      <td>0.054308</td>\n",
       "      <td>-0.034443</td>\n",
       "    </tr>\n",
       "    <tr>\n",
       "      <th>p3_conf</th>\n",
       "      <td>0.053340</td>\n",
       "      <td>-0.049229</td>\n",
       "      <td>-0.341782</td>\n",
       "      <td>NaN</td>\n",
       "      <td>-0.141426</td>\n",
       "      <td>-0.707994</td>\n",
       "      <td>0.045794</td>\n",
       "      <td>0.481020</td>\n",
       "      <td>0.033575</td>\n",
       "      <td>1.000000</td>\n",
       "      <td>0.032755</td>\n",
       "      <td>-0.041441</td>\n",
       "      <td>-0.050666</td>\n",
       "      <td>-0.005253</td>\n",
       "    </tr>\n",
       "    <tr>\n",
       "      <th>p3_dog</th>\n",
       "      <td>-0.107937</td>\n",
       "      <td>0.097605</td>\n",
       "      <td>0.133557</td>\n",
       "      <td>NaN</td>\n",
       "      <td>0.062845</td>\n",
       "      <td>0.119394</td>\n",
       "      <td>0.558523</td>\n",
       "      <td>0.063323</td>\n",
       "      <td>0.554565</td>\n",
       "      <td>0.032755</td>\n",
       "      <td>1.000000</td>\n",
       "      <td>0.008222</td>\n",
       "      <td>0.036851</td>\n",
       "      <td>-0.030503</td>\n",
       "    </tr>\n",
       "    <tr>\n",
       "      <th>retweet_count</th>\n",
       "      <td>-0.369030</td>\n",
       "      <td>0.384626</td>\n",
       "      <td>0.167874</td>\n",
       "      <td>NaN</td>\n",
       "      <td>0.103734</td>\n",
       "      <td>0.050755</td>\n",
       "      <td>0.004314</td>\n",
       "      <td>-0.015913</td>\n",
       "      <td>0.014576</td>\n",
       "      <td>-0.041441</td>\n",
       "      <td>0.008222</td>\n",
       "      <td>1.000000</td>\n",
       "      <td>0.929133</td>\n",
       "      <td>0.022592</td>\n",
       "    </tr>\n",
       "    <tr>\n",
       "      <th>favorite_count</th>\n",
       "      <td>-0.560893</td>\n",
       "      <td>0.612483</td>\n",
       "      <td>0.598890</td>\n",
       "      <td>NaN</td>\n",
       "      <td>0.130053</td>\n",
       "      <td>0.074537</td>\n",
       "      <td>0.045256</td>\n",
       "      <td>-0.018413</td>\n",
       "      <td>0.054308</td>\n",
       "      <td>-0.050666</td>\n",
       "      <td>0.036851</td>\n",
       "      <td>0.929133</td>\n",
       "      <td>1.000000</td>\n",
       "      <td>0.021696</td>\n",
       "    </tr>\n",
       "    <tr>\n",
       "      <th>rating</th>\n",
       "      <td>-0.033403</td>\n",
       "      <td>0.028658</td>\n",
       "      <td>-0.106925</td>\n",
       "      <td>NaN</td>\n",
       "      <td>0.000021</td>\n",
       "      <td>-0.008526</td>\n",
       "      <td>-0.029172</td>\n",
       "      <td>-0.014035</td>\n",
       "      <td>-0.034443</td>\n",
       "      <td>-0.005253</td>\n",
       "      <td>-0.030503</td>\n",
       "      <td>0.022592</td>\n",
       "      <td>0.021696</td>\n",
       "      <td>1.000000</td>\n",
       "    </tr>\n",
       "  </tbody>\n",
       "</table>\n",
       "</div>"
      ],
      "text/plain": [
       "                       Unnamed: 0  tweet_id  in_reply_to_status_id  \\\n",
       "Unnamed: 0               1.000000 -0.950987              -0.680620   \n",
       "tweet_id                -0.950987  1.000000               0.685117   \n",
       "in_reply_to_status_id   -0.680620  0.685117               1.000000   \n",
       "in_reply_to_user_id           NaN       NaN                    NaN   \n",
       "img_num                 -0.230180  0.212914               0.076881   \n",
       "p1_conf                 -0.107483  0.106467               0.425057   \n",
       "p1_dog                  -0.130284  0.120589              -0.079810   \n",
       "p2_conf                  0.006726 -0.002745              -0.392543   \n",
       "p2_dog                  -0.130104  0.123729              -0.210564   \n",
       "p3_conf                  0.053340 -0.049229              -0.341782   \n",
       "p3_dog                  -0.107937  0.097605               0.133557   \n",
       "retweet_count           -0.369030  0.384626               0.167874   \n",
       "favorite_count          -0.560893  0.612483               0.598890   \n",
       "rating                  -0.033403  0.028658              -0.106925   \n",
       "\n",
       "                       in_reply_to_user_id   img_num   p1_conf    p1_dog  \\\n",
       "Unnamed: 0                             NaN -0.230180 -0.107483 -0.130284   \n",
       "tweet_id                               NaN  0.212914  0.106467  0.120589   \n",
       "in_reply_to_status_id                  NaN  0.076881  0.425057 -0.079810   \n",
       "in_reply_to_user_id                    NaN       NaN       NaN       NaN   \n",
       "img_num                                NaN  1.000000  0.204418  0.032786   \n",
       "p1_conf                                NaN  0.204418  1.000000  0.126965   \n",
       "p1_dog                                 NaN  0.032786  0.126965  1.000000   \n",
       "p2_conf                                NaN -0.156602 -0.509792  0.108866   \n",
       "p2_dog                                 NaN  0.052465  0.142273  0.635636   \n",
       "p3_conf                                NaN -0.141426 -0.707994  0.045794   \n",
       "p3_dog                                 NaN  0.062845  0.119394  0.558523   \n",
       "retweet_count                          NaN  0.103734  0.050755  0.004314   \n",
       "favorite_count                         NaN  0.130053  0.074537  0.045256   \n",
       "rating                                 NaN  0.000021 -0.008526 -0.029172   \n",
       "\n",
       "                        p2_conf    p2_dog   p3_conf    p3_dog  retweet_count  \\\n",
       "Unnamed: 0             0.006726 -0.130104  0.053340 -0.107937      -0.369030   \n",
       "tweet_id              -0.002745  0.123729 -0.049229  0.097605       0.384626   \n",
       "in_reply_to_status_id -0.392543 -0.210564 -0.341782  0.133557       0.167874   \n",
       "in_reply_to_user_id         NaN       NaN       NaN       NaN            NaN   \n",
       "img_num               -0.156602  0.052465 -0.141426  0.062845       0.103734   \n",
       "p1_conf               -0.509792  0.142273 -0.707994  0.119394       0.050755   \n",
       "p1_dog                 0.108866  0.635636  0.045794  0.558523       0.004314   \n",
       "p2_conf                1.000000  0.095718  0.481020  0.063323      -0.015913   \n",
       "p2_dog                 0.095718  1.000000  0.033575  0.554565       0.014576   \n",
       "p3_conf                0.481020  0.033575  1.000000  0.032755      -0.041441   \n",
       "p3_dog                 0.063323  0.554565  0.032755  1.000000       0.008222   \n",
       "retweet_count         -0.015913  0.014576 -0.041441  0.008222       1.000000   \n",
       "favorite_count        -0.018413  0.054308 -0.050666  0.036851       0.929133   \n",
       "rating                -0.014035 -0.034443 -0.005253 -0.030503       0.022592   \n",
       "\n",
       "                       favorite_count    rating  \n",
       "Unnamed: 0                  -0.560893 -0.033403  \n",
       "tweet_id                     0.612483  0.028658  \n",
       "in_reply_to_status_id        0.598890 -0.106925  \n",
       "in_reply_to_user_id               NaN       NaN  \n",
       "img_num                      0.130053  0.000021  \n",
       "p1_conf                      0.074537 -0.008526  \n",
       "p1_dog                       0.045256 -0.029172  \n",
       "p2_conf                     -0.018413 -0.014035  \n",
       "p2_dog                       0.054308 -0.034443  \n",
       "p3_conf                     -0.050666 -0.005253  \n",
       "p3_dog                       0.036851 -0.030503  \n",
       "retweet_count                0.929133  0.022592  \n",
       "favorite_count               1.000000  0.021696  \n",
       "rating                       0.021696  1.000000  "
      ]
     },
     "execution_count": 65,
     "metadata": {},
     "output_type": "execute_result"
    }
   ],
   "source": [
    "dados.corr()"
   ]
  },
  {
   "cell_type": "code",
   "execution_count": 82,
   "metadata": {},
   "outputs": [
    {
     "data": {
      "text/plain": [
       "<matplotlib.axes._subplots.AxesSubplot at 0x7fb7c8fe15c0>"
      ]
     },
     "execution_count": 82,
     "metadata": {},
     "output_type": "execute_result"
    },
    {
     "data": {
      "image/png": "[encoded data removed]",
      "text/plain": [
       "<Figure size 1080x360 with 1 Axes>"
      ]
     },
     "metadata": {},
     "output_type": "display_data"
    }
   ],
   "source": [
    "serie = (dados.groupby(['breed'])['tweet_id'].count().sort_values(ascending=False)).head(20)\n",
    "\n",
    "serie.plot.bar()"
   ]
  },
  {
   "cell_type": "code",
   "execution_count": 87,
   "metadata": {},
   "outputs": [
    {
     "data": {
      "text/plain": [
       "<matplotlib.axes._subplots.AxesSubplot at 0x7fb7c8bbdd68>"
      ]
     },
     "execution_count": 87,
     "metadata": {},
     "output_type": "execute_result"
    },
    {
     "data": {
      "image/png": "[encoded data removed]",
      "text/plain": [
       "<Figure size 1080x360 with 1 Axes>"
      ]
     },
     "metadata": {},
     "output_type": "display_data"
    }
   ],
   "source": [
    "serie_fav = (dados.groupby(['breed'])['favorite_count'].mean().sort_values(ascending=False)).head(20)\n",
    "serie_ret = (dados.groupby(['breed'])['retweet_count'].mean().sort_values(ascending=False)).head(20)\n",
    "serie_fav.plot.bar()\n"
   ]
  },
  {
   "cell_type": "code",
   "execution_count": 86,
   "metadata": {},
   "outputs": [
    {
     "data": {
      "text/plain": [
       "<matplotlib.axes._subplots.AxesSubplot at 0x7fb7c8efd9e8>"
      ]
     },
     "execution_count": 86,
     "metadata": {},
     "output_type": "execute_result"
    },
    {
     "data": {
      "image/png": "[encoded data removed]",
      "text/plain": [
       "<Figure size 1080x360 with 1 Axes>"
      ]
     },
     "metadata": {},
     "output_type": "display_data"
    }
   ],
   "source": [
    "serie_ret.plot.bar()\n"
   ]
  },
  {
   "cell_type": "code",
   "execution_count": null,
   "metadata": {},
   "outputs": [],
   "source": []
  }
 ],
 "metadata": {
  "kernelspec": {
   "display_name": "Python 3",
   "language": "python",
   "name": "python3"
  },
  "language_info": {
   "codemirror_mode": {
    "name": "ipython",
    "version": 3
   },
   "file_extension": ".py",
   "mimetype": "text/x-python",
   "name": "python",
   "nbconvert_exporter": "python",
   "pygments_lexer": "ipython3",
   "version": "3.6.5"
  }
 },
 "nbformat": 4,
 "nbformat_minor": 2
}
